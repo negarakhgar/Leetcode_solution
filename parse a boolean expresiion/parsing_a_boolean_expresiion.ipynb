{
  "nbformat": 4,
  "nbformat_minor": 0,
  "metadata": {
    "colab": {
      "provenance": []
    },
    "kernelspec": {
      "name": "python3",
      "display_name": "Python 3"
    },
    "language_info": {
      "name": "python"
    }
  },
  "cells": [
    {
      "cell_type": "markdown",
      "source": [
        "A boolean expression is an expression that evaluates to either true or false. It can be in one of the following shapes:\n",
        "\n",
        "'t' that evaluates to true.\n",
        "'f' that evaluates to false.\n",
        "'!(subExpr)' that evaluates to the logical NOT of the inner expression subExpr.\n",
        "'&(subExpr1, subExpr2, ..., subExprn)' that evaluates to the logical AND of the inner expressions subExpr1, subExpr2, ..., subExprn where n >= 1.\n",
        "'|(subExpr1, subExpr2, ..., subExprn)' that evaluates to the logical OR of the inner expressions subExpr1, subExpr2, ..., subExprn where n >= 1.\n",
        "Given a string expression that represents a boolean expression, return the evaluation of that expression.\n",
        "\n",
        "It is guaranteed that the given expression is valid and follows the given rules.\n",
        "\n"
      ],
      "metadata": {
        "id": "duGkXi_HCz9c"
      }
    },
    {
      "cell_type": "code",
      "execution_count": 5,
      "metadata": {
        "colab": {
          "base_uri": "https://localhost:8080/"
        },
        "id": "tWppegl2eCtn",
        "outputId": "eca97c76-906a-4514-9a16-4ebfa1bf34ff"
      },
      "outputs": [
        {
          "output_type": "stream",
          "name": "stdout",
          "text": [
            "False\n"
          ]
        }
      ],
      "source": [
        "from collections import deque\n",
        "\n",
        "class Solution:\n",
        "    def parseBoolExpr(self, expression: str) -> bool:\n",
        "        st = deque()\n",
        "        for c in expression:\n",
        "            if c == \",\" or c == \"(\":\n",
        "                continue\n",
        "            if c in [\"t\", \"f\", \"!\", \"&\", \"|\"]:\n",
        "                st.append(c)\n",
        "            elif c == \")\":\n",
        "                has_true = False\n",
        "                has_false = False\n",
        "                while st[-1] not in [\"!\", \"&\", \"|\"]:\n",
        "                    top_value = st.pop()\n",
        "                    if top_value == \"t\":\n",
        "                        has_true = True\n",
        "                    elif top_value == \"f\":\n",
        "                        has_false = True\n",
        "                op = st.pop()\n",
        "                if op == \"!\":\n",
        "                    st.append(\"t\" if not has_true else \"f\")\n",
        "                elif op == \"&\":\n",
        "                    st.append(\"f\" if has_false else \"t\")\n",
        "                else:\n",
        "                    st.append(\"t\" if has_true else \"f\")\n",
        "        return st[-1] == \"t\"\n",
        "\n",
        "# Create an instance of the Solution class\n",
        "solution = Solution()\n",
        "\n",
        "# Example expression to test\n",
        "expression = \"&(|(f))\"\n",
        "\n",
        "# Call the parseBoolExpr method and print the output\n",
        "output = solution.parseBoolExpr(expression)\n",
        "print(output)  # This will print: False\n",
        ""
      ]
    }
  ]
}