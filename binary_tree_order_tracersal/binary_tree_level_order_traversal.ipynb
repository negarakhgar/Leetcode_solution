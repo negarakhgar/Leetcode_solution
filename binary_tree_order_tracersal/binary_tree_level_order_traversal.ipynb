{
  "nbformat": 4,
  "nbformat_minor": 0,
  "metadata": {
    "colab": {
      "provenance": []
    },
    "kernelspec": {
      "name": "python3",
      "display_name": "Python 3"
    },
    "language_info": {
      "name": "python"
    }
  },
  "cells": [
    {
      "cell_type": "code",
      "source": [
        "from typing import List, Optional\n",
        "\n",
        "# Definition for a binary tree node.\n",
        "class TreeNode:\n",
        "    def __init__(self, val=0, left=None, right=None):\n",
        "        self.val = val\n",
        "        self.left = left\n",
        "        self.right = right\n",
        "\n",
        "class Solution:\n",
        "    def levelOrder(self, root: Optional[TreeNode]) -> List[List[int]]:\n",
        "        hashmap = self.level(root, {}, 0)\n",
        "        result = []\n",
        "        if hashmap is not None:\n",
        "            for key in list(hashmap.keys()):\n",
        "                result.append(hashmap[key])\n",
        "\n",
        "        return result\n",
        "\n",
        "    def level(self, root, hashmap, lev):\n",
        "        if root is None:\n",
        "            return\n",
        "\n",
        "        if lev in hashmap:\n",
        "            hashmap[lev].append(root.val)\n",
        "        else:\n",
        "            hashmap[lev] = [root.val]\n",
        "\n",
        "        self.level(root.left, hashmap, lev + 1)\n",
        "        self.level(root.right, hashmap, lev + 1)\n",
        "\n",
        "        return hashmap\n",
        "\n",
        "# Create a sample tree\n",
        "root = TreeNode(3)\n",
        "root.left = TreeNode(9)\n",
        "root.right = TreeNode(20)\n",
        "root.right.left = TreeNode(15)\n",
        "root.right.right = TreeNode(7)\n",
        "\n",
        "# Create a Solution object and call levelOrder\n",
        "solution = Solution()\n",
        "result = solution.levelOrder(root)\n",
        "\n",
        "# Print the result\n",
        "print(result)"
      ],
      "metadata": {
        "colab": {
          "base_uri": "https://localhost:8080/"
        },
        "id": "CGFDv8pbMl_E",
        "outputId": "70adc9a6-e733-4222-e60c-f98c77605f33"
      },
      "execution_count": 8,
      "outputs": [
        {
          "output_type": "stream",
          "name": "stdout",
          "text": [
            "[[3], [9, 20], [15, 7]]\n"
          ]
        }
      ]
    }
  ]
}