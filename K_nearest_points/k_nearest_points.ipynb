{
  "nbformat": 4,
  "nbformat_minor": 0,
  "metadata": {
    "colab": {
      "provenance": []
    },
    "kernelspec": {
      "name": "python3",
      "display_name": "Python 3"
    },
    "language_info": {
      "name": "python"
    }
  },
  "cells": [
    {
      "cell_type": "code",
      "execution_count": 1,
      "metadata": {
        "colab": {
          "base_uri": "https://localhost:8080/"
        },
        "id": "M9AdFEbSTDMH",
        "outputId": "1613bb55-cc2d-4e9b-cf12-a9a97390b227"
      },
      "outputs": [
        {
          "output_type": "stream",
          "name": "stdout",
          "text": [
            "[[3, 3], [-2, 4]]\n"
          ]
        }
      ],
      "source": [
        "import math  # Import math module for square root function\n",
        "\n",
        "class Solution:\n",
        "    def kClosest(self, points, k):\n",
        "        # Define a function to calculate the distance from the origin\n",
        "        def dist(el):\n",
        "            return math.sqrt(el[0] * el[0] + el[1] * el[1])\n",
        "\n",
        "        # Sort the points based on the distance from the origin\n",
        "        points.sort(key=lambda el: dist(el))\n",
        "\n",
        "        # Return the k closest points\n",
        "        return points[:k]\n",
        "\n",
        "# Example usage:\n",
        "points = [[3, 3], [5, -1], [-2, 4]]\n",
        "k = 2\n",
        "\n",
        "solution = Solution()\n",
        "result = solution.kClosest(points, k)\n",
        "print(result)  # Output will be [[3, 3], [-2, 4]]\n"
      ]
    }
  ]
}